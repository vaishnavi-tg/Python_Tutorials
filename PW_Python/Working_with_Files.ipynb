{
 "cells": [
  {
   "cell_type": "code",
   "execution_count": 14,
   "metadata": {},
   "outputs": [],
   "source": [
    "f=open(\"Vaishnavi.txt\",'a')"
   ]
  },
  {
   "cell_type": "code",
   "execution_count": 15,
   "metadata": {},
   "outputs": [],
   "source": [
    "f.write(\"Hello my name is vaishnavi so i have writte the file name as vaishnavi.txt\")\n",
    "f.close()"
   ]
  },
  {
   "cell_type": "code",
   "execution_count": 16,
   "metadata": {},
   "outputs": [
    {
     "data": {
      "text/plain": [
       "'d:\\\\ML\\\\PW_Python'"
      ]
     },
     "execution_count": 16,
     "metadata": {},
     "output_type": "execute_result"
    }
   ],
   "source": [
    "pwd"
   ]
  },
  {
   "cell_type": "code",
   "execution_count": 17,
   "metadata": {},
   "outputs": [
    {
     "name": "stdout",
     "output_type": "stream",
     "text": [
      " Volume in drive D is VaishnaviTG\n",
      " Volume Serial Number is 96AB-CA39\n",
      "\n",
      " Directory of d:\\ML\\PW_Python\n",
      "\n",
      "05/12/2024  12:55 PM    <DIR>          .\n",
      "05/05/2024  12:40 PM    <DIR>          ..\n",
      "09/08/2023  09:05 AM             1,999 1stFeb.py\n",
      "08/28/2023  10:22 AM               325 Day1.py\n",
      "08/30/2023  12:26 PM             4,630 Day2.py\n",
      "09/10/2023  06:29 PM             3,566 Day3.py\n",
      "09/10/2023  06:23 PM                 0 Dict.py\n",
      "11/11/2023  07:16 PM                79 Encapsulation.py\n",
      "11/11/2023  07:16 PM                 0 Exception.py\n",
      "10/13/2023  10:00 AM               436 Functions.py\n",
      "10/14/2023  09:40 AM             1,171 Functions1.py\n",
      "10/14/2023  02:00 PM               735 Functions2.py\n",
      "10/14/2023  05:38 PM               397 GeneratorFun.py\n",
      "10/14/2023  05:35 PM               336 Lamda.py\n",
      "09/10/2023  06:44 PM               140 List.py\n",
      "10/15/2023  01:12 PM             1,171 Map_reduce_filter,py\n",
      "11/24/2023  05:51 AM                 0 Modules_packages.py\n",
      "01/29/2024  03:06 PM               108 Multithreading.py\n",
      "01/21/2024  07:08 AM               198 Oops.py\n",
      "10/18/2023  01:21 PM               569 Polymorphism.py\n",
      "09/09/2023  06:32 PM               982 Sets.py\n",
      "05/12/2024  12:55 PM                 9 test.txt\n",
      "09/09/2023  12:59 PM               900 Tuples.py\n",
      "05/12/2024  12:59 PM               296 Vaishnavi.txt\n",
      "05/12/2024  12:59 PM             4,277 Working_with_Files.ipynb\n",
      "              23 File(s)         22,324 bytes\n",
      "               2 Dir(s)  359,204,024,320 bytes free\n"
     ]
    }
   ],
   "source": [
    "ls"
   ]
  },
  {
   "cell_type": "code",
   "execution_count": 18,
   "metadata": {},
   "outputs": [],
   "source": [
    "data=open(\"test.txt\",'a')"
   ]
  },
  {
   "cell_type": "code",
   "execution_count": 19,
   "metadata": {},
   "outputs": [
    {
     "data": {
      "text/plain": [
       "9"
      ]
     },
     "execution_count": 19,
     "metadata": {},
     "output_type": "execute_result"
    }
   ],
   "source": [
    "data.write(\"Hi prends\")"
   ]
  },
  {
   "cell_type": "code",
   "execution_count": 20,
   "metadata": {},
   "outputs": [],
   "source": [
    "data.close()"
   ]
  },
  {
   "cell_type": "code",
   "execution_count": 21,
   "metadata": {},
   "outputs": [],
   "source": [
    "import os"
   ]
  },
  {
   "cell_type": "code",
   "execution_count": 22,
   "metadata": {},
   "outputs": [
    {
     "data": {
      "text/plain": [
       "18"
      ]
     },
     "execution_count": 22,
     "metadata": {},
     "output_type": "execute_result"
    }
   ],
   "source": [
    "os.path.getsize('test.txt')"
   ]
  },
  {
   "cell_type": "code",
   "execution_count": null,
   "metadata": {},
   "outputs": [],
   "source": []
  }
 ],
 "metadata": {
  "kernelspec": {
   "display_name": "Python 3",
   "language": "python",
   "name": "python3"
  },
  "language_info": {
   "codemirror_mode": {
    "name": "ipython",
    "version": 3
   },
   "file_extension": ".py",
   "mimetype": "text/x-python",
   "name": "python",
   "nbconvert_exporter": "python",
   "pygments_lexer": "ipython3",
   "version": "3.11.5"
  }
 },
 "nbformat": 4,
 "nbformat_minor": 2
}
